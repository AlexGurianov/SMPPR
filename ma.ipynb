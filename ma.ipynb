{
 "cells": [
  {
   "cell_type": "code",
   "execution_count": 1,
   "metadata": {
    "collapsed": true
   },
   "outputs": [],
   "source": [
    "import numpy as np\n",
    "from xlrd import open_workbook\n",
    "import xlwt\n",
    "from itertools import product"
   ]
  },
  {
   "cell_type": "code",
   "execution_count": 2,
   "metadata": {
    "collapsed": true
   },
   "outputs": [],
   "source": [
    "table1_len = [4, 4, 5, 4, 2, 3, 3]\n",
    "N1 = len(table1_len)\n",
    "\n",
    "table2_len = [4, 10, 3, 3, 4, 4]\n",
    "N2 = len(table2_len)\n",
    "\n",
    "precision = 3"
   ]
  },
  {
   "cell_type": "code",
   "execution_count": 3,
   "metadata": {
    "collapsed": false
   },
   "outputs": [],
   "source": [
    "def read_stage_correlations(table1_len, file_name):\n",
    "    \"\"\"reading correlations\"\"\"\n",
    "    \n",
    "    N1 = len(table1_len)\n",
    "\n",
    "    correlations = []\n",
    "    for i in xrange(N1):\n",
    "        l1 = []\n",
    "        for j in xrange(table1_len[i]):\n",
    "            l2 = []\n",
    "            for k in xrange(N1):\n",
    "                l3 = []\n",
    "                for l in xrange(table1_len[k]):\n",
    "                    l3.append(0)\n",
    "                l2.append(l3)\n",
    "            l1.append(l2)\n",
    "        correlations.append(l1)\n",
    "\n",
    "    wb = open_workbook(file_name)\n",
    "    sheets = wb.sheets()\n",
    "\n",
    "    for factor_row in xrange(1, N1):\n",
    "        for alternative_row in xrange(table1_len[factor_row]):\n",
    "            for factor_column in xrange(factor_row):\n",
    "                for alternative_column in xrange(table1_len[factor_column]):\n",
    "                    value = sheets[0].cell_value(2+sum(table1_len[1:factor_row])+alternative_row, \n",
    "                                                2+sum(table1_len[:factor_column])+alternative_column)\n",
    "                    if value != '':\n",
    "                        correlations[factor_row][alternative_row][factor_column][alternative_column] = \\\n",
    "                            correlations[factor_column][alternative_column][factor_row][alternative_row] = float(value)\n",
    "\n",
    "    print \"Correlations: \", correlations\n",
    "    return correlations"
   ]
  },
  {
   "cell_type": "code",
   "execution_count": 4,
   "metadata": {
    "collapsed": true
   },
   "outputs": [],
   "source": [
    "def read_interstage_correlations(table1_len, table2_len, file_name):\n",
    "    \"\"\"reading correlations\"\"\"\n",
    "    \n",
    "    N1 = len(table1_len)\n",
    "    N2 = len(table2_len)\n",
    "\n",
    "    correlations = []\n",
    "    for i in xrange(N1):\n",
    "        l1 = []\n",
    "        for j in xrange(table1_len[i]):\n",
    "            l2 = []\n",
    "            for k in xrange(N2):\n",
    "                l3 = []\n",
    "                for l in xrange(table2_len[k]):\n",
    "                    l3.append(0)\n",
    "                l2.append(l3)\n",
    "            l1.append(l2)\n",
    "        correlations.append(l1)\n",
    "\n",
    "    wb = open_workbook(file_name)\n",
    "    sheets = wb.sheets()\n",
    "\n",
    "    for factor_row in xrange(N1):\n",
    "        for alternative_row in xrange(table1_len[factor_row]):\n",
    "            for factor_column in xrange(N2):\n",
    "                for alternative_column in xrange(table2_len[factor_column]):\n",
    "                    value = sheets[0].cell_value(2+sum(table1_len[:factor_row])+alternative_row, \n",
    "                                                2+sum(table2_len[:factor_column])+alternative_column)\n",
    "                    if value != '':\n",
    "                        correlations[factor_row][alternative_row][factor_column][alternative_column] = float(value)\n",
    "\n",
    "    print \"Interstage correlations: \", correlations\n",
    "    return correlations"
   ]
  },
  {
   "cell_type": "code",
   "execution_count": 5,
   "metadata": {
    "collapsed": false
   },
   "outputs": [],
   "source": [
    "def read_prior_probs(table1_len, file_name):\n",
    "    \"\"\"reading prior probabilities\"\"\"\n",
    "    \n",
    "    N1 = len(table1_len)\n",
    "    \n",
    "    prior_probs = []\n",
    "    for i in xrange(N1):\n",
    "        prior_probs.append([])\n",
    "\n",
    "    wb = open_workbook(file_name)\n",
    "    sheets = wb.sheets()\n",
    "    for factor in xrange(N1):\n",
    "        for alternative in xrange(table1_len[factor]):\n",
    "            prior_probs[factor].append(float(sheets[0].cell_value(1+alternative, factor)))\n",
    "        temp = sum(prior_probs[factor])\n",
    "        for alternative in xrange(table1_len[factor]):\n",
    "            prior_probs[factor][alternative] /= temp\n",
    "\n",
    "    print \"Prior probabilities: \", prior_probs\n",
    "    return prior_probs"
   ]
  },
  {
   "cell_type": "code",
   "execution_count": 6,
   "metadata": {
    "collapsed": false
   },
   "outputs": [],
   "source": [
    "def calculate_conditional_probabilities(table1_len, correlations, prior_probs, file_name):\n",
    "    \"\"\"calculating conditional probabilities\"\"\"\n",
    "    N1 = len(table1_len)\n",
    "\n",
    "    P_ = np.zeros(shape = table1_len+[N1])\n",
    "    P = np.zeros(shape = table1_len+[N1])\n",
    "\n",
    "    lists = [np.arange(table1_len[i]) for i in xrange(N1)] + [np.arange(N1)]\n",
    "\n",
    "    for item in product(*lists):\n",
    "        first_product = np.prod([prior_probs[j][item[j]] for j in xrange(N1)])/prior_probs[item[-1]][item[item[-1]]]\n",
    "        second_product = np.prod([np.prod([1+correlations[i][item[i]][j][item[j]] for j in xrange(i+1, N1)])\n",
    "                                  for i in xrange(N1-1)])\n",
    "        P_[item] = first_product*second_product\n",
    "\n",
    "    for item in product(*lists):\n",
    "        temp = sum([P_[item1] if (item1[-1] == item[-1] and item1[item[-1]] == item[item[-1]]) else 0\n",
    "                                for item1 in product(*lists)])\n",
    "        if temp != 0:\n",
    "            P[item] = P_[item]/temp\n",
    "        else:\n",
    "            P[item] = 0\n",
    "\n",
    "    book = xlwt.Workbook()\n",
    "    sh = book.add_sheet(u'Умовні ймовірності')\n",
    "    \n",
    "    sh.write(0, 0, u'Конфігурація')\n",
    "    sh.write(0, N1, u'Імовірність за умови відповідної альтернативи кожного з параметрів')\n",
    "    for i in xrange(N1):\n",
    "        sh.write(1, i, 'F'+str(i+1))\n",
    "        sh.write(1, i+N1, 'F'+str(i+1))\n",
    "    \n",
    "    row = 2\n",
    "    for item in product(*[np.arange(table1_len[i]) for i in xrange(N1)]):\n",
    "        col = 0\n",
    "        for i in item:\n",
    "            sh.write(row, col, i+1)\n",
    "            col += 1\n",
    "        for j in xrange(N1):\n",
    "            sh.write(row, j+N1, round(P[item+(j,)], precision+3))\n",
    "        row +=1\n",
    "    book.save(file_name+'.xls')\n",
    "    #print \"Conditional probabilities\", P\n",
    "    return P"
   ]
  },
  {
   "cell_type": "code",
   "execution_count": 7,
   "metadata": {
    "collapsed": false
   },
   "outputs": [],
   "source": [
    "def form_P_matrix(table1_len, P, i):\n",
    "    \"\"\"form matrix P_i\"\"\"\n",
    "    \n",
    "    N1 = len(table1_len)\n",
    "    \n",
    "    j = i+1 if i<N1-1 else 0\n",
    "    Pi = np.zeros(shape=(table1_len[i], table1_len[j]))\n",
    "    \n",
    "    lists = [np.arange(table1_len[k]) for k in xrange(N1)] + [np.arange(N1)]\n",
    "    for k in xrange(Pi.shape[0]):\n",
    "        for l in xrange(Pi.shape[1]):\n",
    "            Pi[k][l] = np.sum([P[item] if (item[-1] == j and item[i] == k and item[j] == l) else 0\n",
    "                            for item in product(*lists)])\n",
    "    return Pi"
   ]
  },
  {
   "cell_type": "code",
   "execution_count": 8,
   "metadata": {
    "collapsed": false
   },
   "outputs": [],
   "source": [
    "def solve_p(table1_len, Pi, i):\n",
    "    \"calculate probabilities for i-th factor\"\n",
    "    \n",
    "    Pi = np.roll(Pi, -i)\n",
    "    Matr = reduce(lambda x, y: np.dot(x, y), Pi)\n",
    "    res_eig = np.linalg.eig(Matr)\n",
    "    ind = min(range(len(res_eig[0])), key=lambda i: abs(res_eig[0][i]-1.0))\n",
    "    return np.real(res_eig[1][:,ind]/sum(res_eig[1][:,ind]))"
   ]
  },
  {
   "cell_type": "code",
   "execution_count": 9,
   "metadata": {
    "collapsed": true
   },
   "outputs": [],
   "source": [
    "def calculate_conditional_efficiency(table1_len, table2_len, correlations):\n",
    "    \"\"\"calculating conditional efficiency\"\"\"\n",
    "    N1 = len(table1_len)\n",
    "    N2 = len(table2_len)\n",
    "\n",
    "    R_ = np.zeros(shape = table1_len+[N2, max(table2_len)])\n",
    "    R = np.zeros(shape = table1_len+[N2, max(table2_len)])\n",
    "\n",
    "    lists = [np.arange(table1_len[i]) for i in xrange(N1)] + [np.arange(N2)]\n",
    "\n",
    "    for item in product(*lists):\n",
    "        for i in xrange(table2_len[item[-1]]):\n",
    "            first_product = 1.0/table2_len[item[-1]]\n",
    "            second_product = np.prod([1+correlations[j][item[j]][item[-1]][i] for j in xrange(N1)])\n",
    "            R_[item+(i,)] = first_product*second_product\n",
    "\n",
    "    for item in product(*lists):\n",
    "        for i in xrange(table2_len[item[-1]]):\n",
    "            temp = sum([R_[item+(k,)] for k in xrange(table2_len[item[-1]])])\n",
    "            if temp != 0:\n",
    "                R[item+(i,)] = R_[item+(i,)]/temp\n",
    "            else:\n",
    "                R[item+(i,)] = 0\n",
    "\n",
    "    #print \"Conditional efficiency\", R\n",
    "    return R"
   ]
  },
  {
   "cell_type": "code",
   "execution_count": 10,
   "metadata": {
    "collapsed": true
   },
   "outputs": [],
   "source": [
    "def print_Pi_to_excel(Pi, file_name):\n",
    "    book = xlwt.Workbook()\n",
    "    sh = book.add_sheet(u'Матриці P_i')\n",
    "    \n",
    "    col = 0\n",
    "    for i in xrange(len(Pi)):\n",
    "        sh.write(0, col, u'P_'+str(i+1))\n",
    "        for j in xrange(Pi[i].shape[0]):\n",
    "            for k in xrange(Pi[i].shape[1]):\n",
    "                sh.write(j+1, col+k, round(Pi[i][j][k], precision))\n",
    "        col += Pi[i].shape[1]+1\n",
    "    book.save(file_name+'.xls')"
   ]
  },
  {
   "cell_type": "code",
   "execution_count": 18,
   "metadata": {
    "collapsed": true
   },
   "outputs": [],
   "source": [
    "def print_new_probs_to_excel(p_new, file_name):\n",
    "    book = xlwt.Workbook()\n",
    "    sh = book.add_sheet(u'Нові ймовірності')\n",
    "    \n",
    "    for i in xrange(len(p_new)):\n",
    "        sh.write(0, i, 'F'+str(i+1))\n",
    "        for j in xrange(len(p_new[i])):\n",
    "            sh.write(1+j, i, round(p_new[i][j], precision))\n",
    "            \n",
    "    book.save(file_name+'.xls')"
   ]
  },
  {
   "cell_type": "code",
   "execution_count": 12,
   "metadata": {
    "collapsed": true
   },
   "outputs": [],
   "source": [
    "def calculate_first_stage():\n",
    "    \"\"\"recalculate probabilities for the 1st stage\"\"\"\n",
    "    \n",
    "    correlations = read_stage_correlations(table1_len, 'correlations1.xlsx')\n",
    "    prior_probs = read_prior_probs(table1_len, 'prior_probs1.xlsx')\n",
    "    P = calculate_conditional_probabilities(table1_len, correlations, prior_probs, 'conditional_probs1')\n",
    "    Pi = [form_P_matrix(table1_len, P, i) for i in xrange(N1)]\n",
    "    print_Pi_to_excel(Pi, 'Pi_matrices1')\n",
    "    print \"P_i matrices: \", Pi\n",
    "    p_new = [solve_p(table1_len, Pi, i) for i in xrange(N1)]\n",
    "    print_new_probs_to_excel(p_new, 'new_probs1')\n",
    "    print \"Calculated probabilities: \", p_new\n",
    "    return p_new"
   ]
  },
  {
   "cell_type": "code",
   "execution_count": 13,
   "metadata": {
    "collapsed": true
   },
   "outputs": [],
   "source": [
    "def calculate_second_stage(prior_probs):\n",
    "    \"\"\"recalculate probabilities for the 2st stage\"\"\"\n",
    "    \n",
    "    correlations = read_stage_correlations(table2_len, 'correlations2.xlsx')\n",
    "    P = calculate_conditional_probabilities(table2_len, correlations, prior_probs, 'conditional_probs2')\n",
    "    Pi = [form_P_matrix(table2_len, P, i) for i in xrange(N2)]\n",
    "    print_Pi_to_excel(Pi, 'Pi_matrices2')\n",
    "    print \"P_i matrices: \", Pi\n",
    "    p_new = [solve_p(table2_len, Pi, i) for i in xrange(N2)]\n",
    "    print_new_probs_to_excel(p_new, 'new_efficiencies2')\n",
    "    print \"Calculated efficiencies: \", p_new\n",
    "    return p_new"
   ]
  },
  {
   "cell_type": "code",
   "execution_count": 14,
   "metadata": {
    "collapsed": true
   },
   "outputs": [],
   "source": [
    "def calculate_efficiency(post_probs1, file_name):\n",
    "    \"\"\"calculate efficiency (prior probabilities) for the 2nd table\"\"\"\n",
    "    \n",
    "    N1 = len(table1_len)\n",
    "    N2 = len(table2_len)\n",
    "    \n",
    "    correlations = read_interstage_correlations(table1_len, table2_len, 'correlations12.xlsx')\n",
    "    R_cond = calculate_conditional_efficiency(table1_len, table2_len, correlations)\n",
    "    \n",
    "    lists = [np.arange(table1_len[i]) for i in xrange(N1)]\n",
    "    \n",
    "    R = []\n",
    "    for i in xrange(N2):\n",
    "        R.append([])\n",
    "        for j in xrange(table2_len[i]):\n",
    "            R[i].append(sum([R_cond[item + (i, j,)]*np.prod([post_probs1[k][item[k]] for k in xrange(N1)])\n",
    "                             for item in product(*lists)]))\n",
    "    \n",
    "    book = xlwt.Workbook()\n",
    "    sh = book.add_sheet(u'Очікувані результативності')\n",
    "    \n",
    "    for i in xrange(N2):\n",
    "        sh.write(0, i, 'F'+str(i+1))\n",
    "        for j in xrange(len(R[i])):\n",
    "            sh.write(1+j, i, round(R[i][j], precision))\n",
    "            \n",
    "    book.save(file_name+'.xls')\n",
    "    print \"Efficiency R: \", R\n",
    "    return R"
   ]
  },
  {
   "cell_type": "code",
   "execution_count": 15,
   "metadata": {
    "collapsed": false
   },
   "outputs": [
    {
     "name": "stdout",
     "output_type": "stream",
     "text": [
      "Correlations:  [[[[0, 0, 0, 0], [1.0, -1.0, -1.0, -1.0], [0, 0, 0, 0, 0], [0, 0, 0, 0], [0.8, 0], [0, 0, 0.5], [0, 0, 0]], [[0, 0, 0, 0], [0.8, -0.4, 0.3, -1.0], [0, 0, 0, 0, 0], [0, 0, 0, 0], [0, 0], [0, 0.8, 0.8], [0, 0.2, 0.3]], [[0, 0, 0, 0], [0.6, 0.3, 0.5, 0.4], [0, 0, 0, 0, 0], [0, 0, 0, 0], [0, 0], [0, 0.3, 0.3], [0, 0.4, 0.6]], [[0, 0, 0, 0], [0.2, 0.4, 0.6, 0.3], [0, 0, 0, 0, 0], [0, 0, 0, 0], [0, 0], [0, -0.7, -0.8], [0.7, 0, 0.1]]], [[[1.0, 0.8, 0.6, 0.2], [0, 0, 0, 0], [0.4, 0, 0, 0, 0.9], [0, 0, 0, 0.9], [0.5, 0.8], [0.8, 0.4, 0.5], [0.6, 0.2, 0.7]], [[-1.0, -0.4, 0.3, 0.4], [0, 0, 0, 0], [0, 0.8, 0.8, 0.9, -0.4], [0, 0.8, -0.1, 0], [0.2, 0.7], [-0.3, -1.0, -1.0], [-0.3, 0.9, -0.6]], [[-1.0, 0.3, 0.5, 0.6], [0, 0, 0, 0], [0.8, 0.4, 0.2, 0, 0.6], [0, 0, 0, 0], [-0.8, 0.7], [0.5, -0.7, -1.0], [0.8, -0.1, 0.2]], [[-1.0, -1.0, 0.4, 0.3], [0, 0, 0, 0], [0.1, 0, 0, 0, 0.4], [0.6, 0, 0, -0.6], [-1.0, 1.0], [-0.9, -1.0, -1.0], [-1.0, 0.6, -1.0]]], [[[0, 0, 0, 0], [0.4, 0, 0.8, 0.1], [0, 0, 0, 0, 0], [0, 0, 0, 0], [0, 0], [0.5, 0.2, 0.2], [0.7, 0, 0.3]], [[0, 0, 0, 0], [0, 0.8, 0.4, 0], [0, 0, 0, 0, 0], [0, 0, 0, 0], [0, 0], [0.1, 0, 0], [0, 0, 0]], [[0, 0, 0, 0], [0, 0.8, 0.2, 0], [0, 0, 0, 0, 0], [0, 0.7, 0, 0], [0, 0], [0, 0, 0], [0, 0, 0]], [[0, 0, 0, 0], [0, 0.9, 0, 0], [0, 0, 0, 0, 0], [0.8, 0, 0, -0.7], [0, 0], [-0.7, -1.0, -1.0], [-0.5, 0.8, -0.7]], [[0, 0, 0, 0], [0.9, -0.4, 0.6, 0.4], [0, 0, 0, 0, 0], [-0.5, 0, 0, 0.9], [0, 0], [0.3, 0.5, 0.4], [0.9, 0, 0.8]]], [[[0, 0, 0, 0], [0, 0, 0, 0.6], [0, 0, 0, 0.8, -0.5], [0, 0, 0, 0], [0, 0], [0, 0, 0], [0, 0.5, 0]], [[0, 0, 0, 0], [0, 0.8, 0, 0], [0, 0, 0.7, 0, 0], [0, 0, 0, 0], [0, 0], [0, 0, 0], [0.5, 0, 0.3]], [[0, 0, 0, 0], [0, -0.1, 0, 0], [0, 0, 0, 0, 0], [0, 0, 0, 0], [0, 0], [0, 0, 0], [0, 0.3, 0]], [[0, 0, 0, 0], [0.9, 0, 0, -0.6], [0, 0, 0, -0.7, 0.9], [0, 0, 0, 0], [0, 0], [0, 0, 0], [0.6, 0, 0.4]]], [[[0.8, 0, 0, 0], [0.5, 0.2, -0.8, -1.0], [0, 0, 0, 0, 0], [0, 0, 0, 0], [0, 0], [0, 0.2, 0.4], [0, 0, 0]], [[0, 0, 0, 0], [0.8, 0.7, 0.7, 1.0], [0, 0, 0, 0, 0], [0, 0, 0, 0], [0, 0], [0, 0, 0], [0, 0, 0]]], [[[0, 0, 0, 0], [0.8, -0.3, 0.5, -0.9], [0.5, 0.1, 0, -0.7, 0.3], [0, 0, 0, 0], [0, 0], [0, 0, 0], [0, 0, 0]], [[0, 0.8, 0.3, -0.7], [0.4, -1.0, -0.7, -1.0], [0.2, 0, 0, -1.0, 0.5], [0, 0, 0, 0], [0.2, 0], [0, 0, 0], [0.3, 0, 0]], [[0.5, 0.8, 0.3, -0.8], [0.5, -1.0, -1.0, -1.0], [0.2, 0, 0, -1.0, 0.4], [0, 0, 0, 0], [0.4, 0], [0, 0, 0], [0, 0, 0]]], [[[0, 0, 0, 0.7], [0.6, -0.3, 0.8, -1.0], [0.7, 0, 0, -0.5, 0.9], [0, 0.5, 0, 0.6], [0, 0], [0, 0.3, 0], [0, 0, 0]], [[0, 0.2, 0.4, 0], [0.2, 0.9, -0.1, 0.6], [0, 0, 0, 0.8, 0], [0.5, 0, 0.3, 0], [0, 0], [0, 0, 0], [0, 0, 0]], [[0, 0.3, 0.6, 0.1], [0.7, -0.6, 0.2, -1.0], [0.3, 0, 0, -0.7, 0.8], [0, 0.3, 0, 0.4], [0, 0], [0, 0, 0], [0, 0, 0]]]]\n",
      "Prior probabilities:  [[0.14, 0.37, 0.31, 0.18], [0.41, 0.23, 0.24, 0.12], [0.27, 0.17, 0.13, 0.07, 0.36], [0.12, 0.27, 0.16, 0.45], [0.15, 0.85], [0.65, 0.15, 0.2], [0.35, 0.55, 0.1]]\n",
      "P_i matrices:  [array([[ 0.15860093,  0.        ,  0.        ,  0.        ],\n",
      "       [ 0.43047749,  0.23563028,  0.3613957 ,  0.        ],\n",
      "       [ 0.30323852,  0.48196877,  0.36495848,  0.72195817],\n",
      "       [ 0.10768307,  0.28240096,  0.27364581,  0.27804183]]), array([[  8.17875498e-01,   7.78188240e-01,   7.87916936e-01,\n",
      "          6.57549863e-01,   9.00073081e-01],\n",
      "       [  2.79001847e-02,   7.40755757e-02,   8.11817285e-02,\n",
      "          1.92059555e-01,   9.45008525e-03],\n",
      "       [  1.53502249e-01,   1.46606619e-01,   1.29732128e-01,\n",
      "          1.45960088e-01,   9.00854293e-02],\n",
      "       [  7.22067781e-04,   1.12956553e-03,   1.16920792e-03,\n",
      "          4.43049425e-03,   3.91404425e-04]]), array([[ 0.41295318,  0.29569058,  0.30613461,  0.20005715],\n",
      "       [ 0.12191583,  0.08162439,  0.08814074,  0.05172302],\n",
      "       [ 0.08485789,  0.09641587,  0.06133237,  0.03646373],\n",
      "       [ 0.02156112,  0.00676324,  0.00823697,  0.00113017],\n",
      "       [ 0.35871198,  0.51950591,  0.53615531,  0.71062593]]), array([[ 0.04418168,  0.04792561],\n",
      "       [ 0.15611213,  0.16778289],\n",
      "       [ 0.07545915,  0.08026633],\n",
      "       [ 0.72424704,  0.70402516]]), array([[ 0.12072267,  0.15567785,  0.1888448 ],\n",
      "       [ 0.87927733,  0.84432215,  0.8111552 ]]), array([[ 0.6497764 ,  0.66603422,  0.63749354],\n",
      "       [ 0.16870383,  0.13808489,  0.15046827],\n",
      "       [ 0.18151977,  0.19588089,  0.21203819]]), array([[ 0.58808586,  0.5454131 ,  0.49630228,  0.69752892],\n",
      "       [ 0.27319616,  0.29727359,  0.32956592,  0.20580296],\n",
      "       [ 0.13871799,  0.15731331,  0.1741318 ,  0.09666812]])]\n",
      "Calculated probabilities:  [array([ 0.13743898,  0.4182702 ,  0.31426721,  0.13002361]), array([  8.66571069e-01,   2.21365760e-02,   1.10722996e-01,\n",
      "         5.69358656e-04]), array([ 0.23448318,  0.0629176 ,  0.05069887,  0.00360035,  0.64829999]), array([ 0.04740454,  0.16615858,  0.07959728,  0.7068396 ]), array([ 0.13917772,  0.86082228]), array([ 0.65265832,  0.1569817 ,  0.19035998]), array([ 0.55562273,  0.29221949,  0.15215778])]\n"
     ]
    }
   ],
   "source": [
    "post_probs1 = calculate_first_stage()"
   ]
  },
  {
   "cell_type": "code",
   "execution_count": 16,
   "metadata": {
    "collapsed": false
   },
   "outputs": [
    {
     "name": "stdout",
     "output_type": "stream",
     "text": [
      "Interstage correlations:  [[[[0, 0, 0, 0], [0.7, -1.0, -1.0, -1.0, -1.0, 0.5, -1.0, -1.0, -0.4, -1.0], [0, 0, 0], [0.5, 0.6, 0.4], [0.7, 0.8, 0.3, -0.2], [0, 0, -0.6, 0]], [[0, 0, 0, 0], [0.8, 0.8, 0.9, 0.6, 0.4, 0.9, 0.5, 0.2, -0.1, 0.9], [0, 0, 0], [0.4, 0.5, 0.5], [0.7, 0.8, 0.5, -0.1], [0, 0.6, 0, 0]], [[0, 0, 0, 0], [0.8, 0.5, 0.8, 0.9, 0.6, 0.8, 0.7, 0.5, 0.2, 0.7], [0, 0, 0], [0.4, 0.5, 0.5], [0.6, 0.4, 0.7, 0.1], [0, 0.4, 0, 0]], [[0, 0, 0, 0], [0.6, 0.4, 0.6, 0.5, 0.8, 0.7, 0.9, 0.7, 0.3, 0.5], [0, 0, 0], [0.8, 0.3, 0.2], [0.4, 0.2, 0.7, 0.4], [0, 0, 0, 0]]], [[[-0.2, 0.4, 0.5, 0.3], [0.9, 0.9, 0.6, -0.7, -0.4, 0.7, -0.5, -0.6, 0.7, 0.4], [0.2, 0.5, 0.6], [0.5, 0.7, 0.6], [0.7, 0.6, 0.8, -0.1], [0.5, 0.4, 0.6, 0.5]], [[0.8, 0.3, -0.6, -1.0], [-0.8, -0.8, 0.5, -0.2, 0.4, 0.3, 0.8, 0.7, -0.4, -1.0], [0.1, 0.7, 0.2], [0.8, -0.2, -0.4], [-0.1, -0.4, 0.8, 0.6], [0.8, -0.3, -0.6, 0.2]], [[-0.1, 0.6, 0.5, 0.2], [-0.7, -0.8, 0.8, 0.2, 0.6, 0.5, 0.9, 0.6, 0.1, -0.4], [0.4, 0.4, 0.8], [0.7, 0.4, 0.3], [0.4, 0.2, 0.7, 0.5], [0.6, 0.3, 0.2, 0.5]], [[0.2, 0.7, -1.0, -1.0], [-1.0, -1.0, -1.0, 0.8, -1.0, -1.0, -1.0, -1.0, -1.0, 0.3], [0.7, -1.0, -1.0], [0.9, -0.8, -0.8], [-1.0, -1.0, 1.0, -1.0], [0.9, 0.1, -0.4, -0.9]]], [[[-0.4, 0, 0, 0], [0.8, 0.7, 0.8, 0.7, 0.6, 0.8, 0.7, 0.4, 0.6, 0.7], [0, 0, 0], [0, 0, 0], [0, 0, 0, 0], [0, 0, 0, 0]], [[0, 0, 0, 0], [0.5, 0.1, 0.7, 0.4, 0.4, 0.5, 0.8, 0.8, 0.5, 0.3], [0, 0, 0], [0, 0, 0], [0, 0, 0, 0], [0.7, 0.1, 0.2, 0.5]], [[0, 0, 0, 0], [0.3, -0.2, 0.4, -0.5, -0.1, 0.3, 0.8, 0.7, -0.1, -0.4], [0, 0, 0], [0, 0, 0], [-0.1, -0.2, 0, 0], [0.9, -0.9, -0.7, 0.4]], [[0.8, 0.2, 0, 0], [-0.4, -0.5, 0.5, -0.6, -0.3, 0.1, 0.7, 0.6, -0.3, -0.6], [0, 0, 0], [0, 0, 0], [0, 0, 0, 0], [0.8, -0.3, -0.8, 0.3]], [[0, 0, 0.9, 0.8], [0.7, 0.8, 0.8, 0.8, 0.5, 0.9, 0.5, 0.3, 0.5, 0.9], [0, 0, 0], [0, 0, 0], [0, 0, 0, 0], [0, 0, 0, 0]]], [[[0.9, 0.7, 0.1, -0.2], [0, 0, 0, 0, 0, 0, 0, 0, 0, 0], [0, 0.7, 0], [0, 0, 0], [0, 0, 0, 0], [0, 0, 0, 0]], [[-0.6, 0.3, 0.4, 0.5], [0, 0, 0, 0, 0, 0, 0, 0, 0, 0], [0, 0, 0.6], [0, 0, 0], [0, 0, 0, 0], [0, 0, 0, 0]], [[-0.2, 0.4, 0.3, 0.4], [0, 0, 0, 0, 0, 0, 0, 0, 0, 0], [0, 0, 0.6], [0, 0, 0], [0, 0, 0, 0], [0, 0, 0, 0]], [[-1.0, 0.4, 0.7, 0.8], [0, 0, 0, 0, 0, 0, 0, 0, 0, 0], [0, 0, 0.8], [0, 0, 0], [0, 0, 0, 0], [0, 0, 0, 0]]], [[[-0.5, 0, 0, 0], [0, -1.0, -1.0, -1.0, -1.0, 0, -1.0, -1.0, 0, -1.0], [0.7, -1.0, -1.0], [0.6, 0.8, 0.5], [0, 0, 0, 0], [0, -0.3, 0, 0]], [[0, 0, 0, 0], [0, 0, 0, 0, 0, 0, 0, 0, 0, 0], [0, 0, 0], [0.7, 0.6, 0.4], [0, 0, 0, 0], [0, 0, 0, 0]]], [[[-0.9, -0.2, 0.5, 0.7], [0.7, 0.7, 0.7, 0.7, 0.2, 0.6, 0.5, -0.7, 1.0, 0.2], [0, 0, 0], [0, 0, 0], [0, 0, 0, 0], [0, 0, 0, 0]], [[-1.0, -0.8, 0.2, 0.5], [-1.0, -1.0, -0.3, -1.0, -1.0, 0.8, -1.0, -1.0, -1.0, 0.3], [0, 0, 0], [0, 0, 0], [0.8, 0.8, 0, 0], [0, 0, 0.5, 0]], [[-1.0, -0.6, 0.1, 0.3], [-1.0, -1.0, 0.2, 0.1, -1.0, 0.7, -1.0, -1.0, -1.0, 0.7], [0, 0, 0], [0, 0.3, 2.0], [0.8, 0.8, 0, 0], [0, 0, 0, 0]]], [[[-1.0, -0.4, 0.7, 0.9], [0.7, 0.8, 0.6, 0.2, 0.4, 0.8, 0.9, -0.1, 0.4, 0.6], [0, 0, 0], [0, 0, 0], [0, 0, 0, 0], [0, 0, 0, 0]], [[1.0, 0.5, 0.2, -0.6], [0.6, 0.6, 0.6, 0.8, 0.7, 0.5, 0.4, 0.8, 0.7, 0.6], [0, 0, 0], [0, 0, 0], [0, 0, 0, 0], [0, 0, 0, 0]], [[-1.0, -0.1, 0.3, 0.5], [0.6, 0.2, -0.8, -1.0, -1.0, -1.0, -1.0, 0.7, 0.3, -1.0], [0, 0, 0], [0, 0, 0], [0, 0, 0, 0], [0, 0, 0, -0.3]]]]\n",
      "Efficiency R:  [[0.00066501470371958739, 0.095595958554238331, 0.49647049223535361, 0.40726853450668782], [0.17419206418283861, 0.084483281665835283, 0.16592321823344724, 0.020489609408487153, 0.015467299811648974, 0.31540999384258622, 0.024480060080939507, 0.0042520054966667551, 0.087123757465297103, 0.09436708483797164], [0.32960833649764304, 0.24099737470335231, 0.42939428879900415], [0.3219586946965588, 0.34760861032848461, 0.3304326949749567], [0.32424399828125372, 0.29248856125566858, 0.2817147602453125, 0.10155268021776576], [0.26570672659458083, 0.27004091779484141, 0.22586199326976172, 0.2383903623408172]]\n"
     ]
    }
   ],
   "source": [
    "prior_probs2 = calculate_efficiency(post_probs1, 'efficiency')"
   ]
  },
  {
   "cell_type": "code",
   "execution_count": 19,
   "metadata": {
    "collapsed": false
   },
   "outputs": [
    {
     "name": "stdout",
     "output_type": "stream",
     "text": [
      "Correlations:  [[[[0, 0, 0, 0], [0.4, 0.4, -0.3, -0.1, 0.2, -0.8, -0.7, 0.6, 0.1, -0.3], [0.9, 0.3, -0.4], [0.9, -0.7, -0.8], [0, 0, 0.9, 0], [0, 0, 0, 0]], [[0, 0, 0, 0], [0.9, 0.8, -0.2, 0.1, 0.7, 0.1, 0.2, 0.8, 0.6, 0.1], [0.5, 0.7, 0.1], [0.6, 0.3, 0.2], [0, 0, 0, 0], [0, 0, 0, 0]], [[0, 0, 0, 0], [0.3, 0.2, 0.8, 0.5, 0.1, 0.6, 0.8, 0.3, 0.5, 0.7], [0.3, 0.6, 0.5], [0.6, 0.5, 0.4], [0.6, 0.7, 0, 0], [0, 0, 0, 0]], [[0, 0, 0, 0], [-0.8, -0.9, 0.6, 0.2, -0.7, 0.4, 0.3, -0.5, -0.1, 0.5], [0.2, 0.6, 0.8], [0.5, 0.7, 0.6], [0.5, 0.6, 0, 0], [0, 0, 0, 0]]], [[[0.4, 0.9, 0.3, -0.8], [0, 0, 0, 0, 0, 0, 0, 0, 0, 0], [0, 0, 0], [0.4, 0, 0], [-0.4, -0.7, 0.8, 0.1], [0.8, 0.2, 0.3, 0.4]], [[0.4, 0.8, 0.2, -0.9], [0, 0, 0, 0, 0, 0, 0, 0, 0, 0], [0, 0, 0], [0.5, 0, 0], [-0.9, -0.9, 0.7, 0.4], [0.7, 0.1, 0.2, 0.7]], [[-0.3, -0.2, 0.8, 0.6], [0, 0, 0, 0, 0, 0, 0, 0, 0, 0], [0, 0, 0], [0, 0.2, 0.1], [0.4, -0.6, 0.6, -0.1], [0.7, 0.1, 0.4, 0.6]], [[-0.1, 0.1, 0.5, 0.2], [0, 0, 0, 0, 0, 0, 0, 0, 0, 0], [0, 0, 0], [0, 0.2, 0.1], [0.5, -0.9, 0.5, -0.3], [0.6, 0.6, 0.6, 0.5]], [[0.2, 0.7, 0.1, -0.7], [0, 0, 0, 0, 0, 0, 0, 0, 0, 0], [0, 0, 0], [0, 0, 0], [-0.9, -1.0, 0.8, 0.1], [0.5, 0.3, -0.1, 0.6]], [[-0.8, 0.1, 0.6, 0.4], [0, 0, 0, 0, 0, 0, 0, 0, 0, 0], [0, 0, 0], [0, 0.3, 0.2], [0.7, 0.6, 0.7, 0.5], [0.7, 0.2, 0.5, 0.4]], [[-0.7, 0.2, 0.8, 0.3], [0, 0, 0, 0, 0, 0, 0, 0, 0, 0], [0, 0, 0], [0.2, 0, 0], [-0.8, -0.9, 0.8, 0.7], [0.7, -0.3, -0.1, 0.8]], [[0.6, 0.8, 0.3, -0.5], [0, 0, 0, 0, 0, 0, 0, 0, 0, 0], [0, 0, 0], [0.6, 0, 0], [-1.0, -1.0, 0.7, 0.8], [1.0, -1.0, -1.0, -1.0]], [[0.1, 0.6, 0.5, -0.1], [0, 0, 0, 0, 0, 0, 0, 0, 0, 0], [0, 0, 0], [0.1, 0, 0], [-0.9, -1.0, 0.8, -0.3], [0.6, 0.1, -0.2, 0.7]], [[-0.3, 0.1, 0.7, 0.5], [0, 0, 0, 0, 0, 0, 0, 0, 0, 0], [0, 0, 0], [0, 0, 0], [0.6, -0.7, 0.7, 0.4], [0.6, 0.3, 0.6, 0.2]]], [[[0.9, 0.5, 0.3, 0.2], [0, 0, 0, 0, 0, 0, 0, 0, 0, 0], [0, 0, 0], [0, 0, 0], [0.3, 0, 0, 0], [0, 0, 0, 0]], [[0.3, 0.7, 0.6, 0.6], [0, 0, 0, 0, 0, 0, 0, 0, 0, 0], [0, 0, 0], [0, 0, 0], [0, 0, 0, 0], [0, 0, 0, 0]], [[-0.4, 0.1, 0.5, 0.8], [0, 0, 0, 0, 0, 0, 0, 0, 0, 0], [0, 0, 0], [0, 0, 0], [0, 0.5, 0, 0.3], [0, 0, 0, 0]]], [[[0.9, 0.6, 0.6, 0.5], [0.4, 0.5, 0, 0, 0, 0, 0.2, 0.6, 0.1, 0], [0, 0, 0], [0, 0, 0], [0, 0, 0.5, 0.6], [0, 0, 0, 0]], [[-0.7, 0.3, 0.5, 0.7], [0, 0, 0.2, 0.2, 0, 0.3, 0, 0, 0, 0], [0, 0, 0], [0, 0, 0], [0.6, 0.6, 0, 0], [0, 0.2, 0, 0]], [[-0.8, 0.2, 0.4, 0.6], [0, 0, 0.1, 0.1, 0, 0.2, 0, 0, 0, 0], [0, 0, 0], [0, 0, 0], [0.4, 0.4, 0, 0], [0, 0.1, 0, 0]]], [[[0, 0, 0.6, 0.5], [-0.4, -0.9, 0.4, 0.5, -0.9, 0.7, -0.8, -1.0, -0.9, 0.6], [0.3, 0, 0], [0, 0.6, 0.4], [0, 0, 0, 0], [0, 0.2, 0.3, 0.2]], [[0, 0, 0.7, 0.6], [-0.7, -0.9, -0.6, -0.9, -1.0, 0.6, -0.9, -1.0, -1.0, -0.7], [0, 0, 0.5], [0, 0.6, 0.4], [0, 0, 0, 0], [0, 0, 0, 0.4]], [[0.9, 0, 0, 0], [0.8, 0.7, 0.6, 0.5, 0.8, 0.7, 0.8, 0.7, 0.8, 0.7], [0, 0, 0], [0.5, 0, 0], [0, 0, 0, 0], [0.5, 0, 0, 0]], [[0, 0, 0, 0], [0.1, 0.4, -0.1, -0.3, 0.1, 0.5, 0.7, 0.8, -0.3, 0.4], [0, 0, 0.3], [0.6, 0, 0], [0, 0, 0, 0], [0, -0.4, -0.1, 0.6]]], [[[0, 0, 0, 0], [0.8, 0.7, 0.7, 0.6, 0.5, 0.7, 0.7, 1.0, 0.6, 0.6], [0, 0, 0], [0, 0, 0], [0, 0, 0.5, 0], [0, 0, 0, 0]], [[0, 0, 0, 0], [0.2, 0.1, 0.1, 0.6, 0.3, 0.2, -0.3, -1.0, 0.1, 0.3], [0, 0, 0], [0, 0.2, 0.1], [0.2, 0, 0, -0.4], [0, 0, 0, 0]], [[0, 0, 0, 0], [0.3, 0.2, 0.4, 0.6, -0.1, 0.5, -0.1, -1.0, -0.2, 0.6], [0, 0, 0], [0, 0, 0], [0.3, 0, 0, -0.1], [0, 0, 0, 0]], [[0, 0, 0, 0], [0.4, 0.7, 0.6, 0.5, 0.6, 0.4, 0.8, -1.0, 0.7, 0.2], [0, 0, 0], [0, 0, 0], [0.2, 0.4, 0, 0.6], [0, 0, 0, 0]]]]\n",
      "P_i matrices:  [array([[  6.95788683e-04,   1.02897506e-03,   1.12784427e-04,\n",
      "          1.81405174e-04,   7.84303012e-04,   2.84559832e-05,\n",
      "          9.57153518e-05,   1.06265856e-03,   4.91867667e-04,\n",
      "          1.27456102e-04],\n",
      "       [  1.49702746e-01,   1.80278587e-01,   2.89757099e-02,\n",
      "          4.95536130e-02,   1.65703381e-01,   4.12358332e-02,\n",
      "          5.82030185e-02,   1.48480421e-01,   1.00080627e-01,\n",
      "          4.26418214e-02],\n",
      "       [  7.46812484e-01,   7.61542764e-01,   5.38449233e-01,\n",
      "          5.52493703e-01,   6.66708376e-01,   5.33702143e-01,\n",
      "          5.68781671e-01,   6.31836685e-01,   5.81212569e-01,\n",
      "          5.33984035e-01],\n",
      "       [  1.02788981e-01,   5.71496743e-02,   4.32462273e-01,\n",
      "          3.97771279e-01,   1.66803940e-01,   4.25033568e-01,\n",
      "          3.72919595e-01,   2.18620236e-01,   3.18214936e-01,\n",
      "          4.23246688e-01]]), array([[  7.82765697e-02,   7.85626436e-02,   6.91770854e-02],\n",
      "       [  2.21239157e-02,   2.34836144e-02,   2.01853083e-02],\n",
      "       [  1.94899245e-01,   1.90599691e-01,   1.84526105e-01],\n",
      "       [  2.00926757e-02,   1.90551131e-02,   1.73220635e-02],\n",
      "       [  2.98592325e-03,   3.18798926e-03,   2.70263210e-03],\n",
      "       [  5.41596113e-01,   5.45131741e-01,   5.75235406e-01],\n",
      "       [  1.14941042e-02,   1.24314357e-02,   1.18567084e-02],\n",
      "       [  5.73894544e-04,   6.31056068e-04,   5.51535702e-04],\n",
      "       [  2.47053892e-02,   2.68145213e-02,   2.35997667e-02],\n",
      "       [  1.03252169e-01,   1.00102194e-01,   9.48433884e-02]]), array([[ 0.28937316,  0.28883642,  0.28839557],\n",
      "       [ 0.24188015,  0.23408082,  0.23487197],\n",
      "       [ 0.46874669,  0.47708276,  0.47673246]]), array([[ 0.2151512 ,  0.20824994,  0.41188305,  0.42520945],\n",
      "       [ 0.45837549,  0.46330719,  0.32170468,  0.31380982],\n",
      "       [ 0.32647331,  0.32844287,  0.26641227,  0.26098073]]), array([[ 0.35438639,  0.46466511,  0.47625023,  0.38653261],\n",
      "       [ 0.24363497,  0.26375055,  0.25163248,  0.30550175],\n",
      "       [ 0.33385618,  0.22955439,  0.21248896,  0.20776194],\n",
      "       [ 0.06812246,  0.04202996,  0.05962833,  0.10020371]]), array([[ 0.3757001 ,  0.32889378,  0.30517794,  0.29832303],\n",
      "       [ 0.19750039,  0.21561009,  0.22417762,  0.22681447],\n",
      "       [ 0.18579022,  0.20455062,  0.21666523,  0.22114466],\n",
      "       [ 0.24100929,  0.25094551,  0.25397921,  0.25371785]])]\n",
      "Calculated efficiencies:  [array([  1.42938114e-04,   5.23107123e-02,   5.57686769e-01,\n",
      "         3.89859581e-01]), array([ 0.07402503,  0.02152528,  0.18895871,  0.0185322 ,  0.00289924,\n",
      "        0.55839959,  0.01188789,  0.0005768 ,  0.02467937,  0.0985159 ]), array([ 0.28884975,  0.23648669,  0.47466356]), array([ 0.27729199,  0.41533582,  0.30737219]), array([ 0.41386668,  0.2655943 ,  0.25199119,  0.06854783]), array([ 0.30375616,  0.22475363,  0.21777344,  0.25371677])]\n"
     ]
    }
   ],
   "source": [
    "post_probs2 = calculate_second_stage(prior_probs2)"
   ]
  },
  {
   "cell_type": "code",
   "execution_count": null,
   "metadata": {
    "collapsed": true
   },
   "outputs": [],
   "source": []
  }
 ],
 "metadata": {
  "anaconda-cloud": {},
  "kernelspec": {
   "display_name": "Python [Root]",
   "language": "python",
   "name": "Python [Root]"
  },
  "language_info": {
   "codemirror_mode": {
    "name": "ipython",
    "version": 2
   },
   "file_extension": ".py",
   "mimetype": "text/x-python",
   "name": "python",
   "nbconvert_exporter": "python",
   "pygments_lexer": "ipython2",
   "version": "2.7.12"
  }
 },
 "nbformat": 4,
 "nbformat_minor": 0
}
